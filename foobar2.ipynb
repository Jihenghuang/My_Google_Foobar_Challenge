{
 "cells": [
  {
   "cell_type": "code",
   "execution_count": 7,
   "metadata": {
    "collapsed": false
   },
   "outputs": [],
   "source": [
    "#Passed on Test 1, 2, 5. Failed on 3 & 4.\n",
    "def answer(xs):\n",
    "    ans = 1\n",
    "    for a in xs:\n",
    "        if a != 0:\n",
    "            ans *= a\n",
    "        if a == 0:\n",
    "            ans = ans\n",
    "    if ans > 0: \n",
    "        return str(ans)\n",
    "    else:\n",
    "        b = max([c for c in xs if c < 0])\n",
    "        ans /= b\n",
    "        return str(ans)"
   ]
  },
  {
   "cell_type": "code",
   "execution_count": 8,
   "metadata": {
    "collapsed": false
   },
   "outputs": [
    {
     "data": {
      "text/plain": [
       "'1'"
      ]
     },
     "execution_count": 8,
     "metadata": {},
     "output_type": "execute_result"
    }
   ],
   "source": [
    "#Problem: What if all is zero?\n",
    "answer([0, 0])"
   ]
  },
  {
   "cell_type": "code",
   "execution_count": 20,
   "metadata": {
    "collapsed": true
   },
   "outputs": [],
   "source": [
    "#Passed on Test 1, 2, 5. Failed on 3 & 4.\n",
    "#Patch: All is zero solution\n",
    "def answer(xs):\n",
    "    ans = 1\n",
    "    count = 0\n",
    "    for a in xs:\n",
    "        if a != 0:\n",
    "            ans *= a\n",
    "        if a == 0:\n",
    "            ans = ans\n",
    "            count += 1\n",
    "    if count == len(xs):\n",
    "        return str(0)\n",
    "    elif ans > 0: \n",
    "        return str(ans)\n",
    "    else:\n",
    "        b = max([c for c in xs if c < 0])\n",
    "        ans /= b\n",
    "        return str(ans)"
   ]
  },
  {
   "cell_type": "code",
   "execution_count": 9,
   "metadata": {
    "collapsed": false
   },
   "outputs": [
    {
     "data": {
      "text/plain": [
       "'1'"
      ]
     },
     "execution_count": 9,
     "metadata": {},
     "output_type": "execute_result"
    }
   ],
   "source": [
    "#Problem: What if only one element is not zero, and is negative?\n",
    "answer([0, 0, 0, 0, -1])"
   ]
  },
  {
   "cell_type": "code",
   "execution_count": 70,
   "metadata": {
    "collapsed": true
   },
   "outputs": [],
   "source": [
    "#Passed Test 1, 2, 3, 5. Failed on 4\n",
    "#Patch: If only one element is not zero and is negative, return zero value\n",
    "def answer(xs):\n",
    "    ans = 1\n",
    "    count = 0\n",
    "    for a in xs:\n",
    "        if a != 0:\n",
    "            ans *= a\n",
    "        if a == 0:\n",
    "            ans = ans\n",
    "            count += 1\n",
    "    if count == len(xs):\n",
    "        return str(0)\n",
    "    elif ans > 0: \n",
    "        return str(ans)\n",
    "    else:\n",
    "        if count == len(xs) - 1:\n",
    "            return str(0)\n",
    "        else:\n",
    "            b = max([c for c in xs if c < 0])\n",
    "            ans /= b\n",
    "            return str(ans)"
   ]
  },
  {
   "cell_type": "code",
   "execution_count": 110,
   "metadata": {
    "collapsed": false
   },
   "outputs": [
    {
     "name": "stdout",
     "output_type": "stream",
     "text": [
      "950\n",
      "903450\n",
      "860084400\n",
      "-678320336\n",
      "1422461152\n",
      "1240734624\n",
      "731326848\n",
      "-199875712\n",
      "1792596224\n",
      "1112860416\n"
     ]
    },
    {
     "name": "stderr",
     "output_type": "stream",
     "text": [
      "C:\\Users\\jhuan\\Anaconda2\\lib\\site-packages\\ipykernel\\__main__.py:6: RuntimeWarning: overflow encountered in long_scalars\n"
     ]
    }
   ],
   "source": [
    "result =1\n",
    "count = 0\n",
    "for h in lsit:\n",
    "    count += 1\n",
    "    if count< 11:\n",
    "        result = result*h\n",
    "        print result"
   ]
  },
  {
   "cell_type": "code",
   "execution_count": 109,
   "metadata": {
    "collapsed": false
   },
   "outputs": [
    {
     "name": "stdout",
     "output_type": "stream",
     "text": [
      "950\n",
      "903450\n",
      "860084400\n",
      "819660433200\n",
      "781956053272800\n",
      "746768030875524000\n",
      "713910237517000944000\n",
      "683212097303769903408000\n",
      "654517189217011567464864000\n",
      "627681984459114093198804576000\n"
     ]
    }
   ],
   "source": [
    "result =1\n",
    "count = 0\n",
    "for h in lsit:\n",
    "    count += 1\n",
    "    if count< 11:\n",
    "        result = long(result*h)\n",
    "        print result"
   ]
  },
  {
   "cell_type": "code",
   "execution_count": 100,
   "metadata": {
    "collapsed": false
   },
   "outputs": [
    {
     "name": "stdout",
     "output_type": "stream",
     "text": [
      "627681984459114093198804576000\n"
     ]
    }
   ],
   "source": [
    "print 950*951*952*953*954*955*956*957*958*959"
   ]
  },
  {
   "cell_type": "code",
   "execution_count": 1,
   "metadata": {
    "collapsed": true
   },
   "outputs": [],
   "source": [
    "#Passed Test 1, 2, 3, 5. Failed on 4\n",
    "#Patch: Long type\n",
    "def answer(xs):\n",
    "    ans = 1\n",
    "    count = 0\n",
    "    for a in xs:\n",
    "        if a != 0:\n",
    "            ans = long(ans * a)\n",
    "        if a == 0:\n",
    "            ans = long(ans)\n",
    "            count += 1\n",
    "    if count == len(xs):\n",
    "        return str(0)\n",
    "    elif ans > 0: \n",
    "        return str(ans)\n",
    "    else:\n",
    "        if count == len(xs) - 1:\n",
    "            return str(0)\n",
    "        else:\n",
    "            #print ans\n",
    "            b = max([c for c in xs if c < 0])\n",
    "            ans = long (ans / b)\n",
    "            return str(ans)"
   ]
  },
  {
   "cell_type": "code",
   "execution_count": 115,
   "metadata": {
    "collapsed": false
   },
   "outputs": [
    {
     "data": {
      "text/plain": [
       "'273344775964012350667345366941331270556200967467134195537365125010656168563169133602773811653059530600271547850841898185796900705263419392000000000000'"
      ]
     },
     "execution_count": 115,
     "metadata": {},
     "output_type": "execute_result"
    }
   ],
   "source": [
    "answer(lsit)"
   ]
  },
  {
   "cell_type": "code",
   "execution_count": 131,
   "metadata": {
    "collapsed": false
   },
   "outputs": [
    {
     "name": "stdout",
     "output_type": "stream",
     "text": [
      "[950, 951, 952, 953, 954, 955, 956, 957, 958, 959, 960, 961, 962, 963, 964, 965, 966, 967, 968, 969, 970, 971, 972, 973, 974, 975, 976, 977, 978, 979, 980, 981, 982, 983, 984, 985, 986, 987, 988, 989, 990, 991, 992, 993, 994, 995, 996, 997, 998, 999]\n"
     ]
    }
   ],
   "source": [
    "s = []\n",
    "for t in xrange(950, 1000):\n",
    "    s.append(t)\n",
    "print s"
   ]
  },
  {
   "cell_type": "code",
   "execution_count": 132,
   "metadata": {
    "collapsed": false
   },
   "outputs": [
    {
     "data": {
      "text/plain": [
       "'273344775964012350667345366941331270556200967467134195537365125010656168563169133602773811653059530600271547850841898185796900705263419392000000000000'"
      ]
     },
     "execution_count": 132,
     "metadata": {},
     "output_type": "execute_result"
    }
   ],
   "source": [
    "answer(s)"
   ]
  },
  {
   "cell_type": "code",
   "execution_count": 4,
   "metadata": {
    "collapsed": false
   },
   "outputs": [
    {
     "data": {
      "text/plain": [
       "'0'"
      ]
     },
     "execution_count": 4,
     "metadata": {},
     "output_type": "execute_result"
    }
   ],
   "source": [
    "answer([0, 0, 0, 0, -1])"
   ]
  },
  {
   "cell_type": "code",
   "execution_count": 6,
   "metadata": {
    "collapsed": true
   },
   "outputs": [],
   "source": [
    "#Passed Test 1, 2, 4, 5. Failed on 3\n",
    "def answer(xs):\n",
    "    ans = 1\n",
    "    count = 0\n",
    "    for a in xs:\n",
    "        if a != 0:\n",
    "            ans = long(ans * a)\n",
    "        if a == 0:\n",
    "            ans = long(ans)\n",
    "            count += 1\n",
    "    if count == len(xs):\n",
    "        return str(0)\n",
    "    elif ans > 0: \n",
    "        return str(ans)\n",
    "    else:\n",
    "        if count == len(xs) - 1:\n",
    "            return str(sum(xs))\n",
    "        else:\n",
    "            #print ans\n",
    "            b = max([c for c in xs if c < 0])\n",
    "            ans = long (ans / b)\n",
    "\n",
    "            return str(ans)"
   ]
  },
  {
   "cell_type": "code",
   "execution_count": 10,
   "metadata": {
    "collapsed": true
   },
   "outputs": [],
   "source": [
    "#Final:\n",
    "\n",
    "def answer(xs):\n",
    "    ans = 1\n",
    "    count = 0\n",
    "    for a in xs:\n",
    "        if a != 0:\n",
    "            ans = long(ans * a)\n",
    "        if a == 0:\n",
    "            ans = long(ans)\n",
    "            count += 1\n",
    "    if count == len(xs):\n",
    "        return str(0)\n",
    "    elif ans > 0: \n",
    "        return str(ans)\n",
    "    else:\n",
    "        if count == len(xs) - 1:\n",
    "            return str(sum(xs))\n",
    "        else:\n",
    "            #print ans\n",
    "            b = max([c for c in xs if c < 0])\n",
    "            ans = long (ans / b)\n",
    "\n",
    "            return str(ans)"
   ]
  },
  {
   "cell_type": "code",
   "execution_count": 12,
   "metadata": {
    "collapsed": false
   },
   "outputs": [
    {
     "data": {
      "text/plain": [
       "'1'"
      ]
     },
     "execution_count": 12,
     "metadata": {},
     "output_type": "execute_result"
    }
   ],
   "source": [
    "answer([0, 0, 1, 0, -1])"
   ]
  },
  {
   "cell_type": "code",
   "execution_count": null,
   "metadata": {
    "collapsed": true
   },
   "outputs": [],
   "source": [
    "#Final:\n",
    "def answer(xs):\n",
    "    ans = 1\n",
    "    count = 0\n",
    "    for a in xs:\n",
    "        if a != 0:\n",
    "            ans = long(ans * a)\n",
    "        if a == 0:\n",
    "            ans = long(ans)\n",
    "            count += 1\n",
    "    if count == len(xs):\n",
    "        return str(0)\n",
    "    elif ans > 0: \n",
    "        return str(ans)\n",
    "    else:\n",
    "        if count == len(xs) - 1:\n",
    "            if count == 0:\n",
    "                return str(sum(xs))\n",
    "            if count != 0:\n",
    "                return str(0)\n",
    "        else:\n",
    "            b = max([c for c in xs if c < 0])\n",
    "            ans = long (ans / b)\n",
    "            return str(ans)"
   ]
  }
 ],
 "metadata": {
  "kernelspec": {
   "display_name": "Python 2",
   "language": "python",
   "name": "python2"
  },
  "language_info": {
   "codemirror_mode": {
    "name": "ipython",
    "version": 2
   },
   "file_extension": ".py",
   "mimetype": "text/x-python",
   "name": "python",
   "nbconvert_exporter": "python",
   "pygments_lexer": "ipython2",
   "version": "2.7.11"
  }
 },
 "nbformat": 4,
 "nbformat_minor": 0
}
