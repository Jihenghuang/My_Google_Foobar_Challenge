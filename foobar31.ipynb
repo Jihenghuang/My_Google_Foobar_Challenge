{
 "cells": [
  {
   "cell_type": "markdown",
   "metadata": {},
   "source": [
    "Carried from Oct 6, this code passes on test 1 - 4 and 7, failed on 5 to 6 and 8 to 10."
   ]
  },
  {
   "cell_type": "code",
   "execution_count": 1,
   "metadata": {
    "collapsed": true
   },
   "outputs": [],
   "source": [
    "from fractions import Fraction\n",
    "from fractions import gcd"
   ]
  },
  {
   "cell_type": "code",
   "execution_count": 24,
   "metadata": {
    "collapsed": true
   },
   "outputs": [],
   "source": [
    "m = [\n",
    "[0,1,0,0,0,1],  # s0, the initial state, goes to s1 and s5 with equal probability\n",
    "[4,0,0,3,2,0],  # s1 can become s0, s3, or s4, but with different probabilities\n",
    "[0,0,0,0,0,0],  # s2 is terminal, and unreachable (never observed in practice)\n",
    "[0,0,0,0,0,0],  # s3 is terminal\n",
    "[0,0,0,0,0,0],  # s4 is terminal\n",
    "[0,0,0,0,0,0],  # s5 is terminal\n",
    "]"
   ]
  },
  {
   "cell_type": "code",
   "execution_count": 25,
   "metadata": {
    "collapsed": false
   },
   "outputs": [
    {
     "data": {
      "text/plain": [
       "[0, 3, 2, 9, 14]"
      ]
     },
     "execution_count": 25,
     "metadata": {},
     "output_type": "execute_result"
    }
   ],
   "source": [
    "def answer(m):\n",
    "    a = len(m)\n",
    "    \n",
    "    #Convert data type to float\n",
    "    for b in xrange(a):\n",
    "        for c in xrange(a):\n",
    "            m[b][c] = float(m[b][c])\n",
    "    \n",
    "    #Get sum of each array\n",
    "    sum_list = []\n",
    "    for d in xrange(a):\n",
    "        sum_list.append(sum(m[d]))\n",
    "\n",
    "    #If state 0 is terminal state\n",
    "    if sum_list[0] == 0:\n",
    "        answer_list = [0] * (a + 1)\n",
    "        answer_list[0] = answer_list[-1] = 1\n",
    "        return answer_list\n",
    "    \n",
    "    #State 0 is a transient state\n",
    "    else:\n",
    "        #Find transicent states, terminal states\n",
    "        trans_list = [i for i, e in enumerate(sum_list) if e != 0]\n",
    "        termi_list = [j for j in xrange(1, a) if j not in trans_list]\n",
    "\n",
    "        #Normalize non-zero arrays (transient states)\n",
    "        for f in trans_list:\n",
    "            m[f] = [i / sum_list[f] for i in m[f]]\n",
    "        \n",
    "        #Strategy Part 1: Calculate Probabilities of Each Transient States\n",
    "        \n",
    "#         trans_list_prob = [0] * len(trans_list)\n",
    "#         trans_list_prob[0] = 1\n",
    "        \n",
    "#         for z in xrange(1, len(trans_list)):\n",
    "#             trans_list_prob[z] = m[0][trans_list[z]]\n",
    "            \n",
    "        #print trans_list_prob\n",
    "        \n",
    "        trans_list_prob = [1]\n",
    "        \n",
    "        x1_count = 0\n",
    "        for x1 in trans_list[1:]:\n",
    "            x1_count += 1\n",
    "            prob_trans = 0\n",
    "            x2_count = 0\n",
    "            for x2 in trans_list[:x1_count]:\n",
    "                prob_trans += m[x2][x1] * trans_list_prob[x2_count]\n",
    "                x2_count += 1\n",
    "            trans_list_prob.append(prob_trans)\n",
    "            \n",
    "        #Strategy Part 2: Calculate Probabilities of Terminal States\n",
    "        \n",
    "        termi_list_prob = []\n",
    "        for y1 in termi_list:\n",
    "            prob_termi = 0\n",
    "            trans_count = 0\n",
    "            for y2 in trans_list:\n",
    "                prob_termi += m[y2][y1] * trans_list_prob[trans_count]\n",
    "                trans_count += 1\n",
    "            termi_list_prob.append(Fraction(prob_termi).limit_denominator())\n",
    "            \n",
    "        #Normalize list of probabilities of terminal states:\n",
    "        sum_prob = sum(termi_list_prob)\n",
    "        list_prob = [w / sum_prob for w in termi_list_prob]\n",
    "        \n",
    "        N = [int(s.numerator) for s in list_prob]\n",
    "        D = [int(t.denominator) for t in list_prob]\n",
    "        \n",
    "        #Get Lowest Common Multiple (LCM) p\n",
    "        p = D[0]\n",
    "        for q in D[1:]:\n",
    "            r = gcd(p, q)\n",
    "            p = (p * q) / r\n",
    "        \n",
    "        #Return answer list\n",
    "        answer_list = []    \n",
    "        for u in xrange(0, len(N)):\n",
    "            ans = N[u] * (p / D[u])\n",
    "            answer_list.append(ans)\n",
    "        \n",
    "        answer_list.append(p)\n",
    "        return answer_list\n",
    "\n",
    "answer(m)"
   ]
  },
  {
   "cell_type": "code",
   "execution_count": 26,
   "metadata": {
    "collapsed": true
   },
   "outputs": [],
   "source": [
    "x = [[0, 1, 0, 1, 0, 1], [1, 0, 1, 0, 1, 0], [1, 0, 0, 1, 0, 1], [0, 1, 1, 0, 1, 0], [0, 0, 0, 0, 0, 0], [0, 0, 0, 0, 0, 0]]"
   ]
  },
  {
   "cell_type": "code",
   "execution_count": 28,
   "metadata": {
    "collapsed": false
   },
   "outputs": [
    {
     "data": {
      "text/plain": [
       "[19, 30, 49]"
      ]
     },
     "execution_count": 28,
     "metadata": {},
     "output_type": "execute_result"
    }
   ],
   "source": [
    "def answer(m):\n",
    "    a = len(m)\n",
    "    \n",
    "    #Convert data type to float\n",
    "    for b in xrange(a):\n",
    "        for c in xrange(a):\n",
    "            m[b][c] = float(m[b][c])\n",
    "    \n",
    "    #Get sum of each array\n",
    "    sum_list = []\n",
    "    for d in xrange(a):\n",
    "        sum_list.append(sum(m[d]))\n",
    "\n",
    "    #If state 0 is terminal state\n",
    "    if sum_list[0] == 0:\n",
    "        answer_list = [0] * (a + 1)\n",
    "        answer_list[0] = answer_list[-1] = 1\n",
    "        return answer_list\n",
    "    \n",
    "    #State 0 is a transient state\n",
    "    else:\n",
    "        #Find transicent states, terminal states\n",
    "        trans_list = [i for i, e in enumerate(sum_list) if e != 0]\n",
    "        termi_list = [j for j in xrange(1, a) if j not in trans_list]\n",
    "\n",
    "        #Normalize non-zero arrays (transient states)\n",
    "        for f in trans_list:\n",
    "            m[f] = [i / sum_list[f] for i in m[f]]\n",
    "        \n",
    "        #Strategy Part 1: Calculate Probabilities of Each Transient States\n",
    "        \n",
    "#         trans_list_prob = [0] * len(trans_list)\n",
    "#         trans_list_prob[0] = 1\n",
    "        \n",
    "#         for z in xrange(1, len(trans_list)):\n",
    "#             trans_list_prob[z] = m[0][trans_list[z]]\n",
    "            \n",
    "        #print trans_list_prob\n",
    "        \n",
    "        trans_list_prob = [1]\n",
    "        \n",
    "        x1_count = 0\n",
    "        for x1 in trans_list[1:]:\n",
    "            x1_count += 1\n",
    "            prob_trans = 0\n",
    "            x2_count = 0\n",
    "            for x2 in trans_list[:x1_count]:\n",
    "                prob_trans += m[x2][x1] * trans_list_prob[x2_count]\n",
    "                x2_count += 1\n",
    "            trans_list_prob.append(prob_trans)\n",
    "            \n",
    "        #Strategy Part 2: Calculate Probabilities of Terminal States\n",
    "        \n",
    "        termi_list_prob = []\n",
    "        for y1 in termi_list:\n",
    "            prob_termi = 0\n",
    "            trans_count = 0\n",
    "            for y2 in trans_list:\n",
    "                prob_termi += m[y2][y1] * trans_list_prob[trans_count]\n",
    "                trans_count += 1\n",
    "            termi_list_prob.append(Fraction(prob_termi).limit_denominator())\n",
    "            \n",
    "        #Normalize list of probabilities of terminal states:\n",
    "        sum_prob = sum(termi_list_prob)\n",
    "        list_prob = [w / sum_prob for w in termi_list_prob]\n",
    "        \n",
    "        N = [int(s.numerator) for s in list_prob]\n",
    "        D = [int(t.denominator) for t in list_prob]\n",
    "        \n",
    "        #Get Lowest Common Multiple (LCM) p\n",
    "        p = D[0]\n",
    "        for q in D[1:]:\n",
    "            r = gcd(p, q)\n",
    "            p = (p * q) / r\n",
    "        \n",
    "        #Return answer list\n",
    "        answer_list = []    \n",
    "        for u in xrange(0, len(N)):\n",
    "            ans = N[u] * (p / D[u])\n",
    "            answer_list.append(ans)\n",
    "        \n",
    "        answer_list.append(p)\n",
    "        return answer_list\n",
    "\n",
    "answer(x)"
   ]
  },
  {
   "cell_type": "markdown",
   "metadata": {},
   "source": [
    "**********"
   ]
  },
  {
   "cell_type": "code",
   "execution_count": 7,
   "metadata": {
    "collapsed": true
   },
   "outputs": [],
   "source": [
    "m = [\n",
    "[0,1,0,0,0,1],  # s0, the initial state, goes to s1 and s5 with equal probability\n",
    "[4,0,0,3,2,0],  # s1 can become s0, s3, or s4, but with different probabilities\n",
    "[0,0,0,0,0,0],  # s2 is terminal, and unreachable (never observed in practice)\n",
    "[0,0,0,0,0,0],  # s3 is terminal\n",
    "[0,0,0,0,0,0],  # s4 is terminal\n",
    "[0,0,0,0,0,0],  # s5 is terminal\n",
    "]"
   ]
  },
  {
   "cell_type": "code",
   "execution_count": 23,
   "metadata": {
    "collapsed": false
   },
   "outputs": [
    {
     "data": {
      "text/plain": [
       "[0, 3, 2, 9, 14]"
      ]
     },
     "execution_count": 23,
     "metadata": {},
     "output_type": "execute_result"
    }
   ],
   "source": [
    "def answer(m):\n",
    "    a = len(m)\n",
    "    \n",
    "    #Convert data type to float\n",
    "    for b in xrange(a):\n",
    "        for c in xrange(a):\n",
    "            m[b][c] = float(m[b][c])\n",
    "    \n",
    "    #Get sum of each array\n",
    "    sum_list = []\n",
    "    for d in xrange(a):\n",
    "        sum_list.append(sum(m[d]))\n",
    "\n",
    "    #If state 0 is terminal state\n",
    "    if sum_list[0] == 0:\n",
    "        answer_list = [0] * (a + 1)\n",
    "        answer_list[0] = answer_list[-1] = 1\n",
    "        return answer_list\n",
    "    \n",
    "    #State 0 is a transient state\n",
    "    else:\n",
    "        #Find transicent states, terminal states\n",
    "        trans_list = [i for i, e in enumerate(sum_list) if e != 0]\n",
    "        termi_list = [j for j in xrange(1, a) if j not in trans_list]\n",
    "\n",
    "        #Normalize non-zero arrays (transient states)\n",
    "        for f in trans_list:\n",
    "            m[f] = [i / sum_list[f] for i in m[f]]\n",
    "        \n",
    "        #Strategy Part 1: Calculate Probabilities of Each Transient States\n",
    "        \n",
    "        trans_list_prob = [m[0][t] for t in trans_list]\n",
    "        trans_list_prob[0] = 1\n",
    "    \n",
    "        list_0 = [trans_list[l] for l in xrange(1, len(trans_list)) if trans_list_prob[l] != 0]\n",
    "        list_remain = trans_list[1:]\n",
    "        \n",
    "        if len(list_remain) != 0:\n",
    "            for u in xrange(0, len(list_0)):\n",
    "                list_remain.remove(list_0[u])\n",
    "                trans_list_prob[0]\n",
    "                \n",
    "                \n",
    "            \n",
    "        \n",
    "            \n",
    "#         #Strategy Part 2: Calculate Probabilities of Terminal States\n",
    "        \n",
    "        termi_list_prob = []\n",
    "        for y1 in termi_list:\n",
    "            prob_termi = 0\n",
    "            trans_count = 0\n",
    "            for y2 in trans_list:\n",
    "                prob_termi += m[y2][y1] * trans_list_prob[trans_count]\n",
    "                trans_count += 1\n",
    "            termi_list_prob.append(Fraction(prob_termi).limit_denominator())\n",
    "            \n",
    "        #Normalize list of probabilities of terminal states:\n",
    "        sum_prob = sum(termi_list_prob)\n",
    "        list_prob = [w / sum_prob for w in termi_list_prob]\n",
    "        \n",
    "        N = [int(s.numerator) for s in list_prob]\n",
    "        D = [int(t.denominator) for t in list_prob]\n",
    "        \n",
    "        #Get Lowest Common Multiple (LCM) p\n",
    "        p = D[0]\n",
    "        for q in D[1:]:\n",
    "            r = gcd(p, q)\n",
    "            p = (p * q) / r\n",
    "        \n",
    "        #Return answer list\n",
    "        answer_list = []    \n",
    "        for u in xrange(0, len(N)):\n",
    "            ans = N[u] * (p / D[u])\n",
    "            answer_list.append(ans)\n",
    "        \n",
    "        answer_list.append(p)\n",
    "        return answer_list\n",
    "    \n",
    "answer(m)"
   ]
  }
 ],
 "metadata": {
  "kernelspec": {
   "display_name": "Python 2",
   "language": "python",
   "name": "python2"
  },
  "language_info": {
   "codemirror_mode": {
    "name": "ipython",
    "version": 2
   },
   "file_extension": ".py",
   "mimetype": "text/x-python",
   "name": "python",
   "nbconvert_exporter": "python",
   "pygments_lexer": "ipython2",
   "version": "2.7.11"
  }
 },
 "nbformat": 4,
 "nbformat_minor": 0
}
