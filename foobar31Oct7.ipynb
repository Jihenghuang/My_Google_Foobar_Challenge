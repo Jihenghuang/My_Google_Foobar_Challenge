{
 "cells": [
  {
   "cell_type": "code",
   "execution_count": 1,
   "metadata": {
    "collapsed": true
   },
   "outputs": [],
   "source": [
    "m = [\n",
    "[0,1,0,0,0,1],  # s0, the initial state, goes to s1 and s5 with equal probability\n",
    "[4,0,0,3,2,0],  # s1 can become s0, s3, or s4, but with different probabilities\n",
    "[0,0,0,0,0,0],  # s2 is terminal, and unreachable (never observed in practice)\n",
    "[0,0,0,0,0,0],  # s3 is terminal\n",
    "[0,0,0,0,0,0],  # s4 is terminal\n",
    "[0,0,0,0,0,0],  # s5 is terminal\n",
    "]"
   ]
  },
  {
   "cell_type": "code",
   "execution_count": 2,
   "metadata": {
    "collapsed": false
   },
   "outputs": [
    {
     "ename": "SyntaxError",
     "evalue": "invalid syntax (<ipython-input-2-5f0a4557ce9d>, line 39)",
     "output_type": "error",
     "traceback": [
      "\u001b[1;36m  File \u001b[1;32m\"<ipython-input-2-5f0a4557ce9d>\"\u001b[1;36m, line \u001b[1;32m39\u001b[0m\n\u001b[1;33m    for h in xrange(0, b)\u001b[0m\n\u001b[1;37m                         ^\u001b[0m\n\u001b[1;31mSyntaxError\u001b[0m\u001b[1;31m:\u001b[0m invalid syntax\n"
     ]
    }
   ],
   "source": [
    "from fractions import gcd\n",
    "\n",
    "def answer(m):\n",
    "    a = len(m)\n",
    "    \n",
    "    #Get sum of each array\n",
    "    sum_list = []\n",
    "    for d in xrange(a):\n",
    "        sum_list.append(sum(m[d]))\n",
    "\n",
    "    #If state 0 is terminal state\n",
    "    if sum_list[0] == 0:\n",
    "        answer_list = [0] * (a + 1)\n",
    "        answer_list[0] = answer_list[-1] = 1\n",
    "        return answer_list\n",
    "    \n",
    "    #State 0 is a transient state\n",
    "    else:\n",
    "        #Find transicent states, terminal states\n",
    "        trans_list = [i for i, e in enumerate(sum_list) if e != 0]\n",
    "        termi_list = [j for j in xrange(1, a) if j not in trans_list]\n",
    "        \n",
    "        sum_trans_list = [sum_list[k] for k in trans_list]\n",
    "        \n",
    "        #Get Lowest Common Multiple (LCM) n\n",
    "        n = sum_trans_list[0]\n",
    "        for p in sum_trans_list[1:]:\n",
    "            q = gcd(n, p)\n",
    "            n = (n * p) / q\n",
    "            \n",
    "        #Normalize non-zero arrays (transient states)\n",
    "        for f in trans_list:\n",
    "            m[f] = [i * (n / sum_list[f]) for i in m[f]]\n",
    "        \n",
    "        b = len(trans_list)\n",
    "        c = len(termi_list)\n",
    "        \n",
    "        for g in xrange(0, b):\n",
    "            for h in xrange(0, b)\n",
    "            m[g]\n",
    "        \n",
    "answer(m)"
   ]
  },
  {
   "cell_type": "code",
   "execution_count": 8,
   "metadata": {
    "collapsed": false
   },
   "outputs": [
    {
     "ename": "TypeError",
     "evalue": "unsupported operand type(s) for -: 'list' and 'list'",
     "output_type": "error",
     "traceback": [
      "\u001b[1;31m---------------------------------------------------------------------------\u001b[0m",
      "\u001b[1;31mTypeError\u001b[0m                                 Traceback (most recent call last)",
      "\u001b[1;32m<ipython-input-8-b6496eb3a993>\u001b[0m in \u001b[0;36m<module>\u001b[1;34m()\u001b[0m\n\u001b[0;32m      1\u001b[0m \u001b[0ma\u001b[0m \u001b[1;33m=\u001b[0m \u001b[1;33m[\u001b[0m\u001b[1;36m1\u001b[0m\u001b[1;33m,\u001b[0m \u001b[1;36m2\u001b[0m\u001b[1;33m,\u001b[0m \u001b[1;36m3\u001b[0m\u001b[1;33m]\u001b[0m\u001b[1;33m\u001b[0m\u001b[0m\n\u001b[0;32m      2\u001b[0m \u001b[0mb\u001b[0m \u001b[1;33m=\u001b[0m \u001b[1;33m[\u001b[0m\u001b[1;36m2\u001b[0m\u001b[1;33m]\u001b[0m\u001b[1;33m\u001b[0m\u001b[0m\n\u001b[1;32m----> 3\u001b[1;33m \u001b[0ma\u001b[0m \u001b[1;33m-\u001b[0m \u001b[0mb\u001b[0m\u001b[1;33m\u001b[0m\u001b[0m\n\u001b[0m",
      "\u001b[1;31mTypeError\u001b[0m: unsupported operand type(s) for -: 'list' and 'list'"
     ]
    }
   ],
   "source": [
    "a = [1, 2, 3]\n",
    "b = [2]\n",
    "a - b"
   ]
  }
 ],
 "metadata": {
  "kernelspec": {
   "display_name": "Python 2",
   "language": "python",
   "name": "python2"
  },
  "language_info": {
   "codemirror_mode": {
    "name": "ipython",
    "version": 2
   },
   "file_extension": ".py",
   "mimetype": "text/x-python",
   "name": "python",
   "nbconvert_exporter": "python",
   "pygments_lexer": "ipython2",
   "version": "2.7.11"
  }
 },
 "nbformat": 4,
 "nbformat_minor": 0
}
