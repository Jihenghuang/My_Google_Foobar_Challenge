{
 "cells": [
  {
   "cell_type": "code",
   "execution_count": 124,
   "metadata": {
    "collapsed": true
   },
   "outputs": [],
   "source": [
    "from fractions import Fraction\n",
    "from fractions import gcd\n",
    "\n",
    "m = [[0, 1, 1, 1], [0, 0, 0, 0], [0, 0, 0, 0], [0, 0, 0, 0]]\n",
    "\n",
    "def answer1(m):\n",
    "    \n",
    "    for j in xrange(0, len(m)):\n",
    "        for k in xrange(0, len(m)):\n",
    "            m[j][k] = float(m[j][k])\n",
    "            \n",
    "    ans_list = []\n",
    "    b = sum(m[0])\n",
    "    for a in xrange(len(m)):\n",
    "        m[0][a] = m[0][a] / b\n",
    "        if (m[0][a] != 0) & (a != 0):\n",
    "            ans_list.append(Fraction(m[0][a]).limit_denominator())\n",
    "            \n",
    "    D = [int(x.denominator) for x in ans_list]\n",
    "    N = [int(x.numerator) for x in ans_list]\n",
    "    \n",
    "    for b in xrange(1, len(D)):\n",
    "        c = D[0]\n",
    "        d = gcd(c, D[b])\n",
    "        c = c * D[b] / d\n",
    "        \n",
    "    answer_list = []\n",
    "    for e in xrange(len(N)):\n",
    "        f = N[e] * (c / D[e])\n",
    "        #print f\n",
    "        answer_list.append(f)\n",
    "\n",
    "    answer_list.append(c)\n",
    "    \n",
    "    return answer_list"
   ]
  },
  {
   "cell_type": "code",
   "execution_count": 39,
   "metadata": {
    "collapsed": true
   },
   "outputs": [],
   "source": []
  },
  {
   "cell_type": "code",
   "execution_count": 2,
   "metadata": {
    "collapsed": false
   },
   "outputs": [
    {
     "name": "stdout",
     "output_type": "stream",
     "text": [
      "1\n",
      "1\n",
      "1\n"
     ]
    },
    {
     "data": {
      "text/plain": [
       "[1, 1, 1, 3]"
      ]
     },
     "execution_count": 2,
     "metadata": {},
     "output_type": "execute_result"
    }
   ],
   "source": [
    "answer(m)"
   ]
  },
  {
   "cell_type": "code",
   "execution_count": 112,
   "metadata": {
    "collapsed": false
   },
   "outputs": [],
   "source": [
    "m = [\n",
    "[0,1,0,0,0,1],  # s0, the initial state, goes to s1 and s5 with equal probability\n",
    "[4,0,0,3,2,0],  # s1 can become s0, s3, or s4, but with different probabilities\n",
    "[0,0,0,0,0,0],  # s2 is terminal, and unreachable (never observed in practice)\n",
    "[0,0,0,0,0,0],  # s3 is terminal\n",
    "[0,0,0,0,0,0],  # s4 is terminal\n",
    "[0,0,0,0,0,0],  # s5 is terminal\n",
    "]"
   ]
  },
  {
   "cell_type": "code",
   "execution_count": 105,
   "metadata": {
    "collapsed": false
   },
   "outputs": [
    {
     "data": {
      "text/plain": [
       "[0, 3, 2, 9, 18]"
      ]
     },
     "execution_count": 105,
     "metadata": {},
     "output_type": "execute_result"
    }
   ],
   "source": [
    "from fractions import Fraction\n",
    "from fractions import gcd\n",
    "\n",
    "m = [\n",
    "[0,1,0,0,0,1],  # s0, the initial state, goes to s1 and s5 with equal probability\n",
    "[4,0,0,3,2,0],  # s1 can become s0, s3, or s4, but with different probabilities\n",
    "[0,0,0,0,0,0],  # s2 is terminal, and unreachable (never observed in practice)\n",
    "[0,0,0,0,0,0],  # s3 is terminal\n",
    "[0,0,0,0,0,0],  # s4 is terminal\n",
    "[0,0,0,0,0,0],  # s5 is terminal\n",
    "]\n",
    "\n",
    "def answer2(m):\n",
    "    a = len(m)\n",
    "    \n",
    "    #Convert data type to float\n",
    "    for b in xrange(a):\n",
    "        for c in xrange(a):\n",
    "            m[b][c] = float(m[b][c])\n",
    "    \n",
    "    #Get sum of each array\n",
    "    sum_list = []\n",
    "    for d in xrange(a):\n",
    "        sum_list.append(sum(m[d]))\n",
    "\n",
    "    #If state 0 is terminal state\n",
    "    if sum_list[0] == 0:\n",
    "        answer_list = [0] * (a + 1)\n",
    "        answer_list[0] = answer_list[-1] = 1\n",
    "        return answer_list\n",
    "    \n",
    "    #State 0 is a transient state\n",
    "    else:\n",
    "        #Find transicent states, terminal states\n",
    "        trans_list = [i for i, e in enumerate(sum_list) if e != 0]\n",
    "        termi_list = [j for j in xrange(1, a) if j not in trans_list]\n",
    "\n",
    "        #Normalize non-zero arrays (transient states)\n",
    "        for f in trans_list:\n",
    "            m[f] = [i / sum_list[f] for i in m[f]]\n",
    "        \n",
    "        #Strategy Part 1: Calculate Probabilities of Each Transient States\n",
    "        \n",
    "        trans_list_prob = [1]\n",
    "        \n",
    "        x1_count = 0\n",
    "        for x1 in trans_list[1:]:\n",
    "            x1_count += 1\n",
    "            prob_trans = 0\n",
    "            x2_count = 0\n",
    "            for x2 in trans_list[:x1_count]:\n",
    "                prob_trans += m[x2][x1] * trans_list_prob[x2_count]\n",
    "                x2_count += 1\n",
    "            trans_list_prob.append(prob_trans)\n",
    "            \n",
    "        #Strategy Part 2: Calculate Probabilities of Terminal States\n",
    "        \n",
    "        termi_list_prob = []\n",
    "        for y1 in termi_list:\n",
    "            prob_termi = 0\n",
    "            trans_count = 0\n",
    "            for y2 in trans_list:\n",
    "                prob_termi += m[y2][y1] * trans_list_prob[trans_count]\n",
    "                trans_count += 1\n",
    "            termi_list_prob.append(Fraction(prob_termi).limit_denominator())\n",
    "        \n",
    "        N = [int(s.numerator) for s in termi_list_prob]\n",
    "        D = [int(t.denominator) for t in termi_list_prob]\n",
    "        \n",
    "        #Get Lowest Common Multiple (LCM) p\n",
    "        p = D[0]\n",
    "        for q in D[1:]:\n",
    "            r = gcd(p, q)\n",
    "            p = (p * q) / r\n",
    "        \n",
    "        #Return answer list\n",
    "        answer_list = []    \n",
    "        for u in xrange(0, len(N)):\n",
    "            ans = N[u] * (p / D[u])\n",
    "            answer_list.append(ans)\n",
    "        \n",
    "        answer_list.append(p)\n",
    "        return answer_list\n",
    "\n",
    "        \n",
    "answer2(m)             "
   ]
  },
  {
   "cell_type": "code",
   "execution_count": 123,
   "metadata": {
    "collapsed": false
   },
   "outputs": [
    {
     "data": {
      "text/plain": [
       "[0, 3, 2, 9, 14]"
      ]
     },
     "execution_count": 123,
     "metadata": {},
     "output_type": "execute_result"
    }
   ],
   "source": [
    "from fractions import Fraction\n",
    "from fractions import gcd\n",
    "\n",
    "def answer(m):\n",
    "    a = len(m)\n",
    "    \n",
    "    #Convert data type to float\n",
    "    for b in xrange(a):\n",
    "        for c in xrange(a):\n",
    "            m[b][c] = float(m[b][c])\n",
    "    \n",
    "    #Get sum of each array\n",
    "    sum_list = []\n",
    "    for d in xrange(a):\n",
    "        sum_list.append(sum(m[d]))\n",
    "\n",
    "    #If state 0 is terminal state\n",
    "    if sum_list[0] == 0:\n",
    "        answer_list = [0] * (a + 1)\n",
    "        answer_list[0] = answer_list[-1] = 1\n",
    "        return answer_list\n",
    "    \n",
    "    #State 0 is a transient state\n",
    "    else:\n",
    "        #Find transicent states, terminal states\n",
    "        trans_list = [i for i, e in enumerate(sum_list) if e != 0]\n",
    "        termi_list = [j for j in xrange(1, a) if j not in trans_list]\n",
    "\n",
    "        #Normalize non-zero arrays (transient states)\n",
    "        for f in trans_list:\n",
    "            m[f] = [i / sum_list[f] for i in m[f]]\n",
    "        \n",
    "        #Strategy Part 1: Calculate Probabilities of Each Transient States\n",
    "        \n",
    "        trans_list_prob = [0] * len(trans_list)\n",
    "        trans_list_prob[0] = 1\n",
    "        \n",
    "        for z in xrange(1, len(trans_list)):\n",
    "            trans_list_prob[z] = m[0][trans_list[z]]\n",
    "            \n",
    "        #print trans_list_prob\n",
    "        \n",
    "#         x1_count = 0\n",
    "#         for x1 in trans_list[1:]:\n",
    "#             x1_count += 1\n",
    "#             prob_trans = 0\n",
    "#             x2_count = 0\n",
    "#             for x2 in trans_list[:x1_count]:\n",
    "#                 prob_trans += m[x2][x1] * trans_list_prob[x2_count]\n",
    "#                 x2_count += 1\n",
    "#             trans_list_prob.append(prob_trans)\n",
    "            \n",
    "        #Strategy Part 2: Calculate Probabilities of Terminal States\n",
    "        \n",
    "        termi_list_prob = []\n",
    "        for y1 in termi_list:\n",
    "            prob_termi = 0\n",
    "            trans_count = 0\n",
    "            for y2 in trans_list:\n",
    "                prob_termi += m[y2][y1] * trans_list_prob[trans_count]\n",
    "                trans_count += 1\n",
    "            termi_list_prob.append(Fraction(prob_termi).limit_denominator())\n",
    "            \n",
    "        #Normalize list of probabilities of terminal states:\n",
    "        sum_prob = sum(termi_list_prob)\n",
    "        list_prob = [w / sum_prob for w in termi_list_prob]\n",
    "        \n",
    "        N = [int(s.numerator) for s in list_prob]\n",
    "        D = [int(t.denominator) for t in list_prob]\n",
    "        \n",
    "        #Get Lowest Common Multiple (LCM) p\n",
    "        p = D[0]\n",
    "        for q in D[1:]:\n",
    "            r = gcd(p, q)\n",
    "            p = (p * q) / r\n",
    "        \n",
    "        #Return answer list\n",
    "        answer_list = []    \n",
    "        for u in xrange(0, len(N)):\n",
    "            ans = N[u] * (p / D[u])\n",
    "            answer_list.append(ans)\n",
    "        \n",
    "        answer_list.append(p)\n",
    "        return answer_list\n",
    "\n",
    "answer(m)"
   ]
  },
  {
   "cell_type": "code",
   "execution_count": 115,
   "metadata": {
    "collapsed": false
   },
   "outputs": [
    {
     "data": {
      "text/plain": [
       "[1, 2, 3, 4, 5, 6]"
      ]
     },
     "execution_count": 115,
     "metadata": {},
     "output_type": "execute_result"
    }
   ],
   "source": [
    "a = [1, 2, 3]\n",
    "b = [4, 5, 6]\n",
    "a + b "
   ]
  },
  {
   "cell_type": "code",
   "execution_count": 80,
   "metadata": {
    "collapsed": true
   },
   "outputs": [],
   "source": [
    "m= [[, 1], [0, 0], []]"
   ]
  },
  {
   "cell_type": "code",
   "execution_count": 96,
   "metadata": {
    "collapsed": false
   },
   "outputs": [
    {
     "name": "stdout",
     "output_type": "stream",
     "text": [
      "0.0\n"
     ]
    }
   ],
   "source": [
    "a = 1\n",
    "b = 1000000000000000000000000000000000\n",
    "print float(a / b) * b"
   ]
  },
  {
   "cell_type": "code",
   "execution_count": 122,
   "metadata": {
    "collapsed": false
   },
   "outputs": [
    {
     "data": {
      "text/plain": [
       "[0, 3, 2, 0, 5]"
      ]
     },
     "execution_count": 122,
     "metadata": {},
     "output_type": "execute_result"
    }
   ],
   "source": [
    "from fractions import Fraction\n",
    "from fractions import gcd\n",
    "\n",
    "def answer(m):\n",
    "    a = len(m)\n",
    "    \n",
    "#     #Convert data type to float\n",
    "#     for b in xrange(a):\n",
    "#         for c in xrange(a):\n",
    "#             m[b][c] = float(m[b][c])\n",
    "    \n",
    "    #Get sum of each array\n",
    "    sum_list = []\n",
    "    for d in xrange(a):\n",
    "        sum_list.append(sum(m[d]))\n",
    "\n",
    "    #If state 0 is terminal state\n",
    "    if sum_list[0] == 0:\n",
    "        answer_list = [0] * (a + 1)\n",
    "        answer_list[0] = answer_list[-1] = 1\n",
    "        return answer_list\n",
    "    \n",
    "    #State 0 is a transient state\n",
    "    else:\n",
    "        #Find transicent states, terminal states\n",
    "        trans_list = [i for i, e in enumerate(sum_list) if e != 0]\n",
    "        termi_list = [j for j in xrange(1, a) if j not in trans_list]\n",
    "\n",
    "        #Normalize non-zero arrays (transient states)\n",
    "        for f in trans_list:\n",
    "            m[f] = [i / sum_list[f] for i in m[f]]\n",
    "        \n",
    "        #Strategy Part 1: Calculate Probabilities of Each Transient States\n",
    "        \n",
    "        trans_list_prob = [0] * len(trans_list)\n",
    "        trans_list_prob[0] = 1\n",
    "        for z in xrange(1, len(trans_list)):\n",
    "            trans_list_prob[z] = m[0][trans_list[z]]\n",
    "        trans_list_index = trans_list\n",
    "        trans_list_index.remove(0)\n",
    "        \n",
    "        for z in xrange(1, len(trans_list)):\n",
    "            if trans_list_prob[z] != 0:\n",
    "                \n",
    "        \n",
    "        x1_count = 0\n",
    "        for x1 in trans_list[1:]:\n",
    "            x1_count += 1\n",
    "            prob_trans = 0\n",
    "            x2_count = 0\n",
    "            for x2 in trans_list[:x1_count]:\n",
    "                prob_trans += m[x2][x1] * trans_list_prob[x2_count]\n",
    "                x2_count += 1\n",
    "            trans_list_prob.append(prob_trans)\n",
    "            \n",
    "        #Strategy Part 2: Calculate Probabilities of Terminal States\n",
    "        \n",
    "        termi_list_prob = []\n",
    "        for y1 in termi_list:\n",
    "            prob_termi = 0\n",
    "            trans_count = 0\n",
    "            for y2 in trans_list:\n",
    "                prob_termi += m[y2][y1] * trans_list_prob[trans_count]\n",
    "                trans_count += 1\n",
    "            termi_list_prob.append(Fraction(prob_termi).limit_denominator())\n",
    "            \n",
    "        #Normalize list of probabilities of terminal states:\n",
    "        sum_prob = sum(termi_list_prob)\n",
    "        list_prob = [w / sum_prob for w in termi_list_prob]\n",
    "        \n",
    "        N = [int(s.numerator) for s in list_prob]\n",
    "        D = [int(t.denominator) for t in list_prob]\n",
    "        \n",
    "        #Get Lowest Common Multiple (LCM) p\n",
    "        p = D[0]\n",
    "        for q in D[1:]:\n",
    "            r = gcd(p, q)\n",
    "            p = (p * q) / r\n",
    "        \n",
    "        #Return answer list\n",
    "        answer_list = []    \n",
    "        for u in xrange(0, len(N)):\n",
    "            ans = N[u] * (p / D[u])\n",
    "            answer_list.append(ans)\n",
    "        \n",
    "        answer_list.append(p)\n",
    "        return answer_list\n",
    "answer(m)"
   ]
  },
  {
   "cell_type": "code",
   "execution_count": 97,
   "metadata": {
    "collapsed": true
   },
   "outputs": [],
   "source": [
    "i = [[(1, 2), (0, 1)], [0,0]]"
   ]
  },
  {
   "cell_type": "code",
   "execution_count": null,
   "metadata": {
    "collapsed": true
   },
   "outputs": [],
   "source": [
    "from fractions import Fraction\n",
    "from fractions import gcd\n",
    "\n",
    "def answer(m):\n",
    "    a = len(m)\n",
    "    \n",
    "#     #Convert data type to float\n",
    "#     for b in xrange(a):\n",
    "#         for c in xrange(a):\n",
    "#             m[b][c] = float(m[b][c])\n",
    "    \n",
    "    #Get sum of each array\n",
    "    sum_list = []\n",
    "    for d in xrange(a):\n",
    "        sum_list.append(sum(m[d]))\n",
    "\n",
    "    #If state 0 is terminal state\n",
    "    if sum_list[0] == 0:\n",
    "        answer_list = [0] * (a + 1)\n",
    "        answer_list[0] = answer_list[-1] = 1\n",
    "        return answer_list\n",
    "    \n",
    "    #State 0 is a transient state\n",
    "    else:\n",
    "        #Find transicent states, terminal states\n",
    "        trans_list = [i for i, e in enumerate(sum_list) if e != 0]\n",
    "        termi_list = [j for j in xrange(1, a) if j not in trans_list]\n",
    "\n",
    "        #Normalize non-zero arrays (transient states)\n",
    "        for f in trans_list:\n",
    "            m[f] = [i / sum_list[f] for i in m[f]]\n",
    "        \n",
    "        #Strategy Part 1: Calculate Probabilities of Each Transient States\n",
    "        \n",
    "        trans_list_prob = [1]\n",
    "        \n",
    "        x1_count = 0\n",
    "        for x1 in trans_list[1:]:\n",
    "            x1_count += 1\n",
    "            prob_trans_numerator = 0\n",
    "            prob_trans_denominator = 0\n",
    "            x2_count = 0\n",
    "            for x2 in trans_list[:x1_count]:\n",
    "                prob_trans += m[x2][x1] * trans_list_prob[x2_count][0]\n",
    "                x2_count += 1\n",
    "            trans_list_prob.append(prob_trans)\n",
    "            \n",
    "        #Strategy Part 2: Calculate Probabilities of Terminal States\n",
    "        \n",
    "        termi_list_prob = []\n",
    "        for y1 in termi_list:\n",
    "            prob_termi = 0\n",
    "            trans_count = 0\n",
    "            for y2 in trans_list:\n",
    "                prob_termi += m[y2][y1] * trans_list_prob[trans_count]\n",
    "                trans_count += 1\n",
    "            termi_list_prob.append(Fraction(prob_termi).limit_denominator())\n",
    "            \n",
    "        #Normalize list of probabilities of terminal states:\n",
    "        sum_prob = sum(termi_list_prob)\n",
    "        list_prob = [w / sum_prob for w in termi_list_prob]\n",
    "        \n",
    "        N = [int(s.numerator) for s in list_prob]\n",
    "        D = [int(t.denominator) for t in list_prob]\n",
    "        \n",
    "        #Get Lowest Common Multiple (LCM) p\n",
    "        p = D[0]\n",
    "        for q in D[1:]:\n",
    "            r = gcd(p, q)\n",
    "            p = (p * q) / r\n",
    "        \n",
    "        #Return answer list\n",
    "        answer_list = []    \n",
    "        for u in xrange(0, len(N)):\n",
    "            ans = N[u] * (p / D[u])\n",
    "            answer_list.append(ans)\n",
    "        \n",
    "        answer_list.append(p)\n",
    "        return answer_list"
   ]
  }
 ],
 "metadata": {
  "kernelspec": {
   "display_name": "Python 2",
   "language": "python",
   "name": "python2"
  },
  "language_info": {
   "codemirror_mode": {
    "name": "ipython",
    "version": 2
   },
   "file_extension": ".py",
   "mimetype": "text/x-python",
   "name": "python",
   "nbconvert_exporter": "python",
   "pygments_lexer": "ipython2",
   "version": "2.7.11"
  }
 },
 "nbformat": 4,
 "nbformat_minor": 0
}
