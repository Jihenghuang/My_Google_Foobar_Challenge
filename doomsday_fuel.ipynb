{
 "cells": [
  {
   "cell_type": "markdown",
   "metadata": {},
   "source": [
    "Doomsday Fuel\n",
    "=============\n",
    "\n",
    "Making fuel for the LAMBCHOP's reactor core is a tricky process because of the exotic matter involved. It starts as raw ore, then during processing, begins randomly changing between forms, eventually reaching a stable form. There may be multiple stable forms that a sample could ultimately reach, not all of which are useful as fuel. \n",
    "\n",
    "Commander Lambda has tasked you to help the scientists increase fuel creation efficiency by predicting the end state of a given ore sample. You have carefully studied the different structures that the ore can take and which transitions it undergoes. It appears that, while random, the probability of each structure transforming is fixed. That is, each time the ore is in 1 state, it has the same probabilities of entering the next state (which might be the same state).  You have recorded the observed transitions in a matrix. The others in the lab have hypothesized more exotic forms that the ore can become, but you haven't seen all of them.\n",
    "\n",
    "Write a function answer(m) that takes an array of array of nonnegative ints representing how many times that state has gone to the next state and return an array of ints for each terminal state giving the exact probabilities of each terminal state, represented as the numerator for each state, then the denominator for all of them at the end and in simplest form. The matrix is at most 10 by 10. It is guaranteed that no matter which state the ore is in, there is a path from that state to a terminal state. That is, the processing will always eventually end in a stable state. The ore starts in state 0. The denominator will fit within a signed 32-bit integer during the calculation, as long as the fraction is simplified regularly. \n",
    "\n",
    "For example, consider the matrix m:\n",
    "[\n",
    "  [0,1,0,0,0,1],  # s0, the initial state, goes to s1 and s5 with equal probability\n",
    "  [4,0,0,3,2,0],  # s1 can become s0, s3, or s4, but with different probabilities\n",
    "  [0,0,0,0,0,0],  # s2 is terminal, and unreachable (never observed in practice)\n",
    "  [0,0,0,0,0,0],  # s3 is terminal\n",
    "  [0,0,0,0,0,0],  # s4 is terminal\n",
    "  [0,0,0,0,0,0],  # s5 is terminal\n",
    "]\n",
    "So, we can consider different paths to terminal states, such as:\n",
    "s0 -> s1 -> s3\n",
    "s0 -> s1 -> s0 -> s1 -> s0 -> s1 -> s4\n",
    "s0 -> s1 -> s0 -> s5\n",
    "Tracing the probabilities of each, we find that\n",
    "s2 has probability 0\n",
    "s3 has probability 3/14\n",
    "s4 has probability 1/7\n",
    "s5 has probability 9/14\n",
    "So, putting that together, and making a common denominator, gives an answer in the form of\n",
    "[s2.numerator, s3.numerator, s4.numerator, s5.numerator, denominator] which is\n",
    "[0, 3, 2, 9, 14].\n",
    "\n",
    "Languages\n",
    "=============\n",
    "\n",
    "To provide a Python solution, edit solution.py\n",
    "To provide a Java solution, edit solution.java\n",
    "\n",
    "Test cases\n",
    "=============\n",
    "\n",
    "Inputs:\n",
    "    (int) m = [[0, 2, 1, 0, 0], [0, 0, 0, 3, 4], [0, 0, 0, 0, 0], [0, 0, 0, 0, 0], [0, 0, 0, 0, 0]]\n",
    "Output:\n",
    "    (int list) [7, 6, 8, 21]\n",
    "    \n",
    "Inputs:\n",
    "    (int) m = [[0, 1, 0, 0, 0, 1], [4, 0, 0, 3, 2, 0], [0, 0, 0, 0, 0, 0], [0, 0, 0, 0, 0, 0], [0, 0, 0, 0, 0, 0], [0, 0, 0, 0, 0, 0]]\n",
    "Output:\n",
    "    (int list) [0, 3, 2, 9, 14]\n",
    "\n",
    "Use verify [file] to test your solution and see how it does. When you are finished editing your code, use submit [file] to submit your answer. If your solution passes the test cases, it will be removed from your home folder."
   ]
  },
  {
   "cell_type": "markdown",
   "metadata": {},
   "source": [
    "# Constraints"
   ]
  },
  {
   "cell_type": "markdown",
   "metadata": {},
   "source": [
    "Java\n",
    " ====\n",
    "\n",
    " Your code will be compiled using standard Java 7. It must implement the answer() method in the solution stub.\n",
    "\n",
    " Execution time is limited. Some classes are restricted (e.g. java.lang.ClassLoader). You will see a notice if you use a restricted class when you verify your solution.\n",
    "\n",
    " Third-party libraries, input/output operations, spawning threads or processes and changes to the execution environment are not allowed.\n",
    "\n",
    " Python\n",
    " ======\n",
    "\n",
    " Your code will run inside a Python 2.7.6 sandbox.\n",
    "\n",
    " Standard libraries are supported except for bz2, crypt, fcntl, mmap, pwd, pyexpat, select, signal, termios, thread, time, unicodedata, zipimport, zlib."
   ]
  },
  {
   "cell_type": "markdown",
   "metadata": {},
   "source": [
    "#### My Code"
   ]
  },
  {
   "cell_type": "code",
   "execution_count": 3,
   "metadata": {
    "collapsed": true
   },
   "outputs": [],
   "source": [
    "from fractions import Fraction\n",
    "from fractions import gcd"
   ]
  },
  {
   "cell_type": "code",
   "execution_count": 8,
   "metadata": {
    "collapsed": true
   },
   "outputs": [],
   "source": [
    "#Example, expected output of answer(m) function will be [0, 3, 2, 9, 14]\n",
    "#Which stands for:\n",
    "#Probability of terminal state - state2: 0 / 14\n",
    "#Probability of terminal state - state3: 3 / 14\n",
    "#Probability of terminal state - state4: 2 / 14\n",
    "#Probability of terminal state - state5: 9 / 14\n",
    "m = [\n",
    "[0,1,0,0,0,1],  # s0, the initial state, goes to s1 and s5 with equal probability\n",
    "[4,0,0,3,2,0],  # s1 can become s0, s3, or s4, but with different probabilities\n",
    "[0,0,0,0,0,0],  # s2 is terminal, and unreachable (never observed in practice)\n",
    "[0,0,0,0,0,0],  # s3 is terminal\n",
    "[0,0,0,0,0,0],  # s4 is terminal\n",
    "[0,0,0,0,0,0],  # s5 is terminal\n",
    "]"
   ]
  },
  {
   "cell_type": "code",
   "execution_count": 13,
   "metadata": {
    "collapsed": false
   },
   "outputs": [
    {
     "data": {
      "text/plain": [
       "[0, 3, 2, 9, 14]"
      ]
     },
     "execution_count": 13,
     "metadata": {},
     "output_type": "execute_result"
    }
   ],
   "source": [
    "def answer(m):\n",
    "    \n",
    "    #Number of lists\n",
    "    a = len(m)\n",
    "    \n",
    "    #Convert data type in lists to float\n",
    "    for b in xrange(a):\n",
    "        for c in xrange(a):\n",
    "            m[b][c] = float(m[b][c])\n",
    "    \n",
    "    #Get sum of each list, if sum is not zero, it is a transient state; if sum is zero, it is a terminal state \n",
    "    sum_list = []\n",
    "    for d in xrange(a):\n",
    "        sum_list.append(sum(m[d]))\n",
    "\n",
    "    #If the initial state (state 0) is terminal, Probability of state 0 will be 1/1 (100%)\n",
    "    #Probabilities of all other terminal states will be zero\n",
    "    #Return answer_list [1, 0, 0...0, 1] as result\n",
    "    if sum_list[0] == 0:\n",
    "        answer_list = [0] * (a + 1)\n",
    "        answer_list[0] = answer_list[-1] = 1\n",
    "        return answer_list\n",
    "    \n",
    "    #If state 0 is a transient state\n",
    "    else:\n",
    "        #Put the number of transient states in a list, for example, if states 0, 1, 2 are transient, put them in a list trans_list = [0, 1, 2]\n",
    "        trans_list = [i for i, e in enumerate(sum_list) if e != 0]\n",
    "        #Put the number of terminal states in a list\n",
    "        termi_list = [j for j in xrange(1, a) if j not in trans_list]\n",
    "\n",
    "        #Normalize transient states (sum of all elements in a list equals to 1.) for example [1, 1, 1, 0, 0] of state 0 becomes [0.333, 0.333, 0.333, 0, 0] of state 0\n",
    "        for f in trans_list:\n",
    "            m[f] = [i / sum_list[f] for i in m[f]]\n",
    "        \n",
    "        #Calculate probabilities of each transient states\n",
    "        #Store probabilities of each transient states in a list called \"trans_list_prob\"\n",
    "        #First number in the list would be \"1\" as state 0 is the initial state\n",
    "        trans_list_prob = [1]\n",
    "        \n",
    "        #Declare x1_count as the order of transient state\n",
    "        x1_count = 0\n",
    "        \n",
    "        #x1 is the current transient state whose probability is being calculated\n",
    "        for x1 in trans_list[1:]:\n",
    "            x1_count += 1\n",
    "            \n",
    "            #Declare probability of current transient state\n",
    "            prob_trans = 0\n",
    "            \n",
    "            #Declare x2_count as order of previous transient state which may or may not lead to current transient state \n",
    "            #if may not, the probabilty m[x2][x1] is zero)\n",
    "            x2_count = 0\n",
    "            \n",
    "            #x2 is previous transient states before current transient state x1\n",
    "            for x2 in trans_list[:x1_count]:\n",
    "                prob_trans += m[x2][x1] * trans_list_prob[x2_count]\n",
    "                x2_count += 1\n",
    "            trans_list_prob.append(prob_trans)\n",
    "        \n",
    "    \n",
    "        \n",
    "        #Calculate probabilities of terminal states by using probabilities of transient states\n",
    "        #For example, if transient states 0 (1/2 chance) and 2 (1/4 chance) lead to terminal state 4\n",
    "        #And the probability of ore in state 0 is 1 (1/1 as state 0 is initial state, all ores start here), assuming probability in state 2 is 1/3\n",
    "        #In this case, probability of terminal state 4 is: 1/2 (chance of state 0 to 4) * 1/1 (probability of ore being in state 0) + 1/4 (chance of state 2 to 4)\n",
    "        #* 1/3 (probability of ore being in state 2) = 1/2 + 1/12 = 7/12\n",
    "        \n",
    "        \n",
    "        #Store probabilities of each terminal states in a list called \"termi_list_prob\"\n",
    "        termi_list_prob = []\n",
    "        \n",
    "        for y1 in termi_list:\n",
    "            \n",
    "            #Declare probability of current terminal state\n",
    "            prob_termi = 0\n",
    "            #Declare probability of a transient state\n",
    "            trans_count = 0\n",
    "            \n",
    "            for y2 in trans_list:\n",
    "                prob_termi += m[y2][y1] * trans_list_prob[trans_count]\n",
    "                trans_count += 1\n",
    "            \n",
    "            termi_list_prob.append(prob_termi)\n",
    "            \n",
    "        #Normalize list of probabilities of terminal states, and convert the probabilities to fractions:\n",
    "        sum_prob = sum(termi_list_prob)\n",
    "        list_prob = [Fraction(w / sum_prob).limit_denominator() for w in termi_list_prob]\n",
    "        \n",
    "        #Get a list of numerators and denominators\n",
    "        N = [int(s.numerator) for s in list_prob]\n",
    "        D = [int(t.denominator) for t in list_prob]\n",
    "        \n",
    "        #Get Lowest Common Multiple (LCM) of denominators p\n",
    "        p = D[0]\n",
    "        for q in D[1:]:\n",
    "            r = gcd(p, q)\n",
    "            p = (p * q) / r\n",
    "        \n",
    "        #Return answer list\n",
    "        answer_list = []    \n",
    "        for u in xrange(0, len(N)):\n",
    "            ans = N[u] * (p / D[u])\n",
    "            answer_list.append(ans)\n",
    "        \n",
    "        answer_list.append(p)\n",
    "        return answer_list\n",
    "\n",
    "answer(m)"
   ]
  },
  {
   "cell_type": "code",
   "execution_count": 14,
   "metadata": {
    "collapsed": true
   },
   "outputs": [],
   "source": [
    "#Another Example from test cases stated above:\n",
    "#Expected output of answer(m1): [7, 6, 8, 21]\n",
    "m1 = [[0, 2, 1, 0, 0], [0, 0, 0, 3, 4], [0, 0, 0, 0, 0], [0, 0, 0, 0, 0], [0, 0, 0, 0, 0]]"
   ]
  },
  {
   "cell_type": "code",
   "execution_count": 15,
   "metadata": {
    "collapsed": false
   },
   "outputs": [
    {
     "data": {
      "text/plain": [
       "[7, 6, 8, 21]"
      ]
     },
     "execution_count": 15,
     "metadata": {},
     "output_type": "execute_result"
    }
   ],
   "source": [
    "answer(m1)"
   ]
  }
 ],
 "metadata": {
  "kernelspec": {
   "display_name": "Python 2",
   "language": "python",
   "name": "python2"
  },
  "language_info": {
   "codemirror_mode": {
    "name": "ipython",
    "version": 2
   },
   "file_extension": ".py",
   "mimetype": "text/x-python",
   "name": "python",
   "nbconvert_exporter": "python",
   "pygments_lexer": "ipython2",
   "version": "2.7.11"
  }
 },
 "nbformat": 4,
 "nbformat_minor": 0
}
